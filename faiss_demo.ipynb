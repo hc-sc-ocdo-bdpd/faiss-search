{
 "cells": [
  {
   "attachments": {},
   "cell_type": "markdown",
   "metadata": {},
   "source": [
    "# FAISS Tutorial\n",
    "\n",
    "This notebook demonstrates the functionality of the FAISS library"
   ]
  },
  {
   "cell_type": "code",
   "execution_count": 6,
   "metadata": {},
   "outputs": [],
   "source": [
    "import os\n",
    "import numpy as np\n",
    "from file_processing import faiss_index"
   ]
  },
  {
   "cell_type": "code",
   "execution_count": 3,
   "metadata": {},
   "outputs": [],
   "source": [
    "# load sample embeddings and query vectors\n",
    "embeddings = np.load(\"tests/resources/faiss_test_files/sample_embeddings.npy\")\n",
    "query_vec = np.load(\"tests/resources/faiss_test_files/sample_query_vector.npy\")"
   ]
  },
  {
   "attachments": {},
   "cell_type": "markdown",
   "metadata": {},
   "source": [
    "**Create an index and run a query**\n",
    "\n",
    "The output of the query will be a tuple representing the distance between the query vector and the documents along with the indexes of the documents in the faiss index"
   ]
  },
  {
   "cell_type": "code",
   "execution_count": 5,
   "metadata": {},
   "outputs": [
    {
     "data": {
      "text/plain": [
       "(array([[37.001266],\n",
       "        [26.461792]], dtype=float32),\n",
       " array([[14],\n",
       "        [15]], dtype=int64))"
      ]
     },
     "execution_count": 5,
     "metadata": {},
     "output_type": "execute_result"
    }
   ],
   "source": [
    "# create a faiss index\n",
    "flat_index = faiss_index.create_flat_index(embeddings)\n",
    "# query the index\n",
    "flat_index.query(query_vec, k=1)"
   ]
  },
  {
   "attachments": {},
   "cell_type": "markdown",
   "metadata": {},
   "source": [
    "**Save the index**\n",
    "\n",
    "The index can be saved by calling the save function or by specifying a file path upon creating the index"
   ]
  },
  {
   "cell_type": "code",
   "execution_count": 7,
   "metadata": {},
   "outputs": [],
   "source": [
    "# save the index\n",
    "flat_index.save_index(\"tests/resources/faiss_test_files/flat_index.faiss\")"
   ]
  },
  {
   "cell_type": "code",
   "execution_count": 8,
   "metadata": {},
   "outputs": [],
   "source": [
    "# save when creating the index\n",
    "flat_index = faiss_index.create_flat_index(embeddings, \"tests/resources/faiss_test_files/flat_index.faiss\")"
   ]
  },
  {
   "cell_type": "code",
   "execution_count": 9,
   "metadata": {},
   "outputs": [],
   "source": [
    "# clean up files\n",
    "os.remove(\"tests/resources/faiss_test_files/flat_index.faiss\")"
   ]
  },
  {
   "attachments": {},
   "cell_type": "markdown",
   "metadata": {},
   "source": [
    "**Load an index from a file**\n",
    "\n",
    "A previously created FAISS index can be loaded from a file"
   ]
  },
  {
   "cell_type": "code",
   "execution_count": 10,
   "metadata": {},
   "outputs": [
    {
     "data": {
      "text/plain": [
       "(array([[37.001266],\n",
       "        [26.461792]], dtype=float32),\n",
       " array([[14],\n",
       "        [15]], dtype=int64))"
      ]
     },
     "execution_count": 10,
     "metadata": {},
     "output_type": "execute_result"
    }
   ],
   "source": [
    "index_from_file = faiss_index.load_index(\"tests/resources/faiss_test_files/flat.faiss\")\n",
    "index_from_file.query(query_vec)"
   ]
  }
 ],
 "metadata": {
  "kernelspec": {
   "display_name": "Python 3",
   "language": "python",
   "name": "python3"
  },
  "language_info": {
   "codemirror_mode": {
    "name": "ipython",
    "version": 3
   },
   "file_extension": ".py",
   "mimetype": "text/x-python",
   "name": "python",
   "nbconvert_exporter": "python",
   "pygments_lexer": "ipython3",
   "version": "3.10.4"
  },
  "orig_nbformat": 4
 },
 "nbformat": 4,
 "nbformat_minor": 2
}
